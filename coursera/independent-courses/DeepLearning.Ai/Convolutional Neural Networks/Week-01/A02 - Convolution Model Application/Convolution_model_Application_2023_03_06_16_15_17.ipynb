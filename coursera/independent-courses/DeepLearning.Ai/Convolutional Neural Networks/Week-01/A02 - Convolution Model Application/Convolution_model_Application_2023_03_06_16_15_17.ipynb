{
 "cells": [
  {
   "cell_type": "markdown",
   "metadata": {},
   "source": [
    "# Convolutional Neural Networks: Application\n",
    "\n",
    "Welcome to Course 4's second assignment! In this notebook, you will:\n",
    "\n",
    "- Create a mood classifer using the TF Keras Sequential API\n",
    "- Build a ConvNet to identify sign language digits using the TF Keras Functional API\n",
    "\n",
    "**After this assignment you will be able to:**\n",
    "\n",
    "- Build and train a ConvNet in TensorFlow for a __binary__ classification problem\n",
    "- Build and train a ConvNet in TensorFlow for a __multiclass__ classification problem\n",
    "- Explain different use cases for the Sequential and Functional APIs\n",
    "\n",
    "To complete this assignment, you should already be familiar with TensorFlow. If you are not, please refer back to the **TensorFlow Tutorial** of the third week of Course 2 (\"**Improving deep neural networks**\").\n",
    "\n",
    "## Important Note on Submission to the AutoGrader\n",
    "\n",
    "Before submitting your assignment to the AutoGrader, please make sure you are not doing the following:\n",
    "\n",
    "1. You have not added any _extra_ `print` statement(s) in the assignment.\n",
    "2. You have not added any _extra_ code cell(s) in the assignment.\n",
    "3. You have not changed any of the function parameters.\n",
    "4. You are not using any global variables inside your graded exercises. Unless specifically instructed to do so, please refrain from it and use the local variables instead.\n",
    "5. You are not changing the assignment code where it is not required, like creating _extra_ variables.\n",
    "\n",
    "If you do any of the following, you will get something like, `Grader not found` (or similarly unexpected) error upon submitting your assignment. Before asking for help/debugging the errors in your assignment, check for these first. If this is the case, and you don't remember the changes you have made, you can get a fresh copy of the assignment by following these [instructions](https://www.coursera.org/learn/convolutional-neural-networks/supplement/DS4yP/h-ow-to-refresh-your-workspace)."
   ]
  },
  {
   "cell_type": "markdown",
   "metadata": {},
   "source": [
    "## Table of Contents\n",
    "\n",
    "- [1 - Packages](#1)\n",
    "    - [1.1 - Load the Data and Split the Data into Train/Test Sets](#1-1)\n",
    "- [2 - Layers in TF Keras](#2)\n",
    "- [3 - The Sequential API](#3)\n",
    "    - [3.1 - Create the Sequential Model](#3-1)\n",
    "        - [Exercise 1 - happyModel](#ex-1)\n",
    "    - [3.2 - Train and Evaluate the Model](#3-2)\n",
    "- [4 - The Functional API](#4)\n",
    "    - [4.1 - Load the SIGNS Dataset](#4-1)\n",
    "    - [4.2 - Split the Data into Train/Test Sets](#4-2)\n",
    "    - [4.3 - Forward Propagation](#4-3)\n",
    "        - [Exercise 2 - convolutional_model](#ex-2)\n",
    "    - [4.4 - Train the Model](#4-4)\n",
    "- [5 - History Object](#5)\n",
    "- [6 - Bibliography](#6)"
   ]
  },
  {
   "cell_type": "markdown",
   "metadata": {},
   "source": [
    "<a name='1'></a>\n",
    "## 1 - Packages\n",
    "\n",
    "As usual, begin by loading in the packages."
   ]
  },
  {
   "cell_type": "code",
   "execution_count": 1,
   "metadata": {},
   "outputs": [],
   "source": [
    "import math\n",
    "import numpy as np\n",
    "import h5py\n",
    "import matplotlib.pyplot as plt\n",
    "from matplotlib.pyplot import imread\n",
    "import scipy\n",
    "from PIL import Image\n",
    "import pandas as pd\n",
    "import tensorflow as tf\n",
    "import tensorflow.keras.layers as tfl\n",
    "from tensorflow.python.framework import ops\n",
    "from cnn_utils import *\n",
    "from test_utils import summary, comparator\n",
    "\n",
    "%matplotlib inline\n",
    "np.random.seed(1)"
   ]
  },
  {
   "cell_type": "markdown",
   "metadata": {},
   "source": [
    "<a name='1-1'></a>\n",
    "### 1.1 - Load the Data and Split the Data into Train/Test Sets\n",
    "\n",
    "You'll be using the Happy House dataset for this part of the assignment, which contains images of peoples' faces. Your task will be to build a ConvNet that determines whether the people in the images are smiling or not -- because they only get to enter the house if they're smiling!  "
   ]
  },
  {
   "cell_type": "code",
   "execution_count": 2,
   "metadata": {},
   "outputs": [
    {
     "name": "stdout",
     "output_type": "stream",
     "text": [
      "number of training examples = 600\n",
      "number of test examples = 150\n",
      "X_train shape: (600, 64, 64, 3)\n",
      "Y_train shape: (600, 1)\n",
      "X_test shape: (150, 64, 64, 3)\n",
      "Y_test shape: (150, 1)\n"
     ]
    }
   ],
   "source": [
    "X_train_orig, Y_train_orig, X_test_orig, Y_test_orig, classes = load_happy_dataset()\n",
    "\n",
    "# Normalize image vectors\n",
    "X_train = X_train_orig/255.\n",
    "X_test = X_test_orig/255.\n",
    "\n",
    "# Reshape\n",
    "Y_train = Y_train_orig.T\n",
    "Y_test = Y_test_orig.T\n",
    "\n",
    "print (\"number of training examples = \" + str(X_train.shape[0]))\n",
    "print (\"number of test examples = \" + str(X_test.shape[0]))\n",
    "print (\"X_train shape: \" + str(X_train.shape))\n",
    "print (\"Y_train shape: \" + str(Y_train.shape))\n",
    "print (\"X_test shape: \" + str(X_test.shape))\n",
    "print (\"Y_test shape: \" + str(Y_test.shape))"
   ]
  },
  {
   "cell_type": "markdown",
   "metadata": {},
   "source": [
    "You can display the images contained in the dataset. Images are **64x64** pixels in RGB format (3 channels)."
   ]
  },
  {
   "cell_type": "code",
   "execution_count": 3,
   "metadata": {},
   "outputs": [
    {
     "data": {
      "image/png": "[encoded data removed]",
      "text/plain": [
       "<Figure size 432x288 with 1 Axes>"
      ]
     },
     "metadata": {
      "needs_background": "light"
     },
     "output_type": "display_data"
    }
   ],
   "source": [
    "index = 124\n",
    "plt.imshow(X_train_orig[index]) #display sample training image\n",
    "plt.show()"
   ]
  },
  {
   "cell_type": "markdown",
   "metadata": {},
   "source": [
    "<a name='2'></a>\n",
    "## 2 - Layers in TF Keras \n",
    "\n",
    "In the previous assignment, you created layers manually in numpy. In TF Keras, you don't have to write code directly to create layers. Rather, TF Keras has pre-defined layers you can use. \n",
    "\n",
    "When you create a layer in TF Keras, you are creating a function that takes some input and transforms it into an output you can reuse later. Nice and easy! "
   ]
  },
  {
   "cell_type": "markdown",
   "metadata": {},
   "source": [
    "<a name='3'></a>\n",
    "## 3 - The Sequential API\n",
    "\n",
    "In the previous assignment, you built helper functions using `numpy` to understand the mechanics behind convolutional neural networks. Most practical applications of deep learning today are built using programming frameworks, which have many built-in functions you can simply call. Keras is a high-level abstraction built on top of TensorFlow, which allows for even more simplified and optimized model creation and training. \n",
    "\n",
    "For the first part of this assignment, you'll create a model using TF Keras' Sequential API, which allows you to build layer by layer, and is ideal for building models where each layer has **exactly one** input tensor and **one** output tensor. \n",
    "\n",
    "As you'll see, using the Sequential API is simple and straightforward, but is only appropriate for simpler, more straightforward tasks. Later in this notebook you'll spend some time building with a more flexible, powerful alternative: the Functional API. \n",
    " "
   ]
  },
  {
   "cell_type": "markdown",
   "metadata": {},
   "source": [
    "<a name='3-1'></a>\n",
    "### 3.1 - Create the Sequential Model\n",
    "\n",
    "As mentioned earlier, the TensorFlow Keras Sequential API can be used to build simple models with layer operations that proceed in a sequential order. \n",
    "\n",
    "You can also add layers incrementally to a Sequential model with the `.add()` method, or remove them using the `.pop()` method, much like you would in a regular Python list.\n",
    "\n",
    "Actually, you can think of a Sequential model as behaving like a list of layers. Like Python lists, Sequential layers are ordered, and the order in which they are specified matters.  If your model is non-linear or contains layers with multiple inputs or outputs, a Sequential model wouldn't be the right choice!\n",
    "\n",
    "For any layer construction in Keras, you'll need to specify the input shape in advance. This is because in Keras, the shape of the weights is based on the shape of the inputs. The weights are only created when the model first sees some input data. Sequential models can be created by passing a list of layers to the Sequential constructor, like you will do in the next assignment.\n",
    "\n",
    "<a name='ex-1'></a>\n",
    "### Exercise 1 - happyModel\n",
    "\n",
    "Implement the `happyModel` function below to build the following model: `ZEROPAD2D -> CONV2D -> BATCHNORM -> RELU -> MAXPOOL -> FLATTEN -> DENSE`. Take help from [tf.keras.layers](https://www.tensorflow.org/api_docs/python/tf/keras/layers) \n",
    "\n",
    "Also, plug in the following parameters for all the steps:\n",
    "\n",
    " - [ZeroPadding2D](https://www.tensorflow.org/api_docs/python/tf/keras/layers/ZeroPadding2D): padding 3, input shape 64 x 64 x 3\n",
    " - [Conv2D](https://www.tensorflow.org/api_docs/python/tf/keras/layers/Conv2D): Use 32 7x7 filters, stride 1\n",
    " - [BatchNormalization](https://www.tensorflow.org/api_docs/python/tf/keras/layers/BatchNormalization): for axis 3\n",
    " - [ReLU](https://www.tensorflow.org/api_docs/python/tf/keras/layers/ReLU)\n",
    " - [MaxPool2D](https://www.tensorflow.org/api_docs/python/tf/keras/layers/MaxPool2D): Using default parameters\n",
    " - [Flatten](https://www.tensorflow.org/api_docs/python/tf/keras/layers/Flatten) the previous output.\n",
    " - Fully-connected ([Dense](https://www.tensorflow.org/api_docs/python/tf/keras/layers/Dense)) layer: Apply a fully connected layer with 1 neuron and a sigmoid activation. \n",
    " \n",
    " \n",
    " **Hint:**\n",
    " \n",
    " Use **tfl** as shorthand for **tensorflow.keras.layers**"
   ]
  },
  {
   "cell_type": "code",
   "execution_count": 6,
   "metadata": {
    "deletable": false,
    "nbgrader": {
     "cell_type": "code",
     "checksum": "95d28b191f257bdd5b70c7b8952559d5",
     "grade": false,
     "grade_id": "cell-0e56d3fc28b69aec",
     "locked": false,
     "schema_version": 3,
     "solution": true,
     "task": false
    }
   },
   "outputs": [],
   "source": [
    "# GRADED FUNCTION: happyModel\n",
    "\n",
    "def happyModel():\n",
    "    \"\"\"\n",
    "    Implements the forward propagation for the binary classification model:\n",
    "    ZEROPAD2D -> CONV2D -> BATCHNORM -> RELU -> MAXPOOL -> FLATTEN -> DENSE\n",
    "    \n",
    "    Note that for simplicity and grading purposes, you'll hard-code all the values\n",
    "    such as the stride and kernel (filter) sizes. \n",
    "    Normally, functions should take these values as function parameters.\n",
    "    \n",
    "    Arguments:\n",
    "    None\n",
    "\n",
    "    Returns:\n",
    "    model -- TF Keras model (object containing the information for the entire training process) \n",
    "    \"\"\"\n",
    "    model = tf.keras.Sequential([\n",
    "            ## ZeroPadding2D with padding 3, input shape of 64 x 64 x 3\n",
    "        tfl.ZeroPadding2D(padding=3, input_shape=(64, 64, 3)),\n",
    "            \n",
    "            ## Conv2D with 32 7x7 filters and stride of 1\n",
    "        tfl.Conv2D(filters=32, kernel_size=7, strides=1),\n",
    "            \n",
    "            ## BatchNormalization for axis 3\n",
    "        tfl.BatchNormalization(axis=3),\n",
    "            \n",
    "            ## ReLU\n",
    "        tfl.ReLU(),\n",
    "            \n",
    "            ## Max Pooling 2D with default parameters\n",
    "        tfl.MaxPool2D(),\n",
    "            \n",
    "            ## Flatten layer\n",
    "        tfl.Flatten(),\n",
    "            \n",
    "            ## Dense layer with 1 unit for output & 'sigmoid' activation\n",
    "        tfl.Dense(1, activation='sigmoid')\n",
    "            \n",
    "            # YOUR CODE STARTS HERE\n",
    "            \n",
    "            \n",
    "            # YOUR CODE ENDS HERE\n",
    "        ])\n",
    "    \n",
    "    return model"
   ]
  },
  {
   "cell_type": "code",
   "execution_count": 7,
   "metadata": {
    "deletable": false,
    "editable": false,
    "nbgrader": {
     "cell_type": "code",
     "checksum": "8d3575c950e2e78149be2d05d671c80d",
     "grade": true,
     "grade_id": "cell-e3e1046e5c33d775",
     "locked": true,
     "points": 10,
     "schema_version": 3,
     "solution": false,
     "task": false
    }
   },
   "outputs": [
    {
     "name": "stdout",
     "output_type": "stream",
     "text": [
      "['ZeroPadding2D', (None, 70, 70, 3), 0, ((3, 3), (3, 3))]\n",
      "['Conv2D', (None, 64, 64, 32), 4736, 'valid', 'linear', 'GlorotUniform']\n",
      "['BatchNormalization', (None, 64, 64, 32), 128]\n",
      "['ReLU', (None, 64, 64, 32), 0]\n",
      "['MaxPooling2D', (None, 32, 32, 32), 0, (2, 2), (2, 2), 'valid']\n",
      "['Flatten', (None, 32768), 0]\n",
      "['Dense', (None, 1), 32769, 'sigmoid']\n",
      "\u001b[32mAll tests passed!\u001b[0m\n"
     ]
    }
   ],
   "source": [
    "happy_model = happyModel()\n",
    "# Print a summary for each layer\n",
    "for layer in summary(happy_model):\n",
    "    print(layer)\n",
    "    \n",
    "output = [['ZeroPadding2D', (None, 70, 70, 3), 0, ((3, 3), (3, 3))],\n",
    "            ['Conv2D', (None, 64, 64, 32), 4736, 'valid', 'linear', 'GlorotUniform'],\n",
    "            ['BatchNormalization', (None, 64, 64, 32), 128],\n",
    "            ['ReLU', (None, 64, 64, 32), 0],\n",
    "            ['MaxPooling2D', (None, 32, 32, 32), 0, (2, 2), (2, 2), 'valid'],\n",
    "            ['Flatten', (None, 32768), 0],\n",
    "            ['Dense', (None, 1), 32769, 'sigmoid']]\n",
    "    \n",
    "comparator(summary(happy_model), output)"
   ]
  },
  {
   "cell_type": "markdown",
   "metadata": {},
   "source": [
    "Now that your model is created, you can compile it for training with an optimizer and loss of your choice. When the string `accuracy` is specified as a metric, the type of accuracy used will be automatically converted based on the loss function used. This is one of the many optimizations built into TensorFlow that make your life easier! If you'd like to read more on how the compiler operates, check the docs [here](https://www.tensorflow.org/api_docs/python/tf/keras/Model#compile)."
   ]
  },
  {
   "cell_type": "code",
   "execution_count": 8,
   "metadata": {},
   "outputs": [],
   "source": [
    "happy_model.compile(optimizer='adam',\n",
    "                   loss='binary_crossentropy',\n",
    "                   metrics=['accuracy'])"
   ]
  },
  {
   "cell_type": "markdown",
   "metadata": {},
   "source": [
    "It's time to check your model's parameters with the `.summary()` method. This will display the types of layers you have, the shape of the outputs, and how many parameters are in each layer. "
   ]
  },
  {
   "cell_type": "code",
   "execution_count": 9,
   "metadata": {},
   "outputs": [
    {
     "name": "stdout",
     "output_type": "stream",
     "text": [
      "Model: \"sequential\"\n",
      "_________________________________________________________________\n",
      "Layer (type)                 Output Shape              Param #   \n",
      "=================================================================\n",
      "zero_padding2d (ZeroPadding2 (None, 70, 70, 3)         0         \n",
      "_________________________________________________________________\n",
      "conv2d (Conv2D)              (None, 64, 64, 32)        4736      \n",
      "_________________________________________________________________\n",
      "batch_normalization (BatchNo (None, 64, 64, 32)        128       \n",
      "_________________________________________________________________\n",
      "re_lu (ReLU)                 (None, 64, 64, 32)        0         \n",
      "_________________________________________________________________\n",
      "max_pooling2d (MaxPooling2D) (None, 32, 32, 32)        0         \n",
      "_________________________________________________________________\n",
      "flatten (Flatten)            (None, 32768)             0         \n",
      "_________________________________________________________________\n",
      "dense (Dense)                (None, 1)                 32769     \n",
      "=================================================================\n",
      "Total params: 37,633\n",
      "Trainable params: 37,569\n",
      "Non-trainable params: 64\n",
      "_________________________________________________________________\n"
     ]
    }
   ],
   "source": [
    "happy_model.summary()"
   ]
  },
  {
   "cell_type": "markdown",
   "metadata": {},
   "source": [
    "<a name='3-2'></a>\n",
    "### 3.2 - Train and Evaluate the Model\n",
    "\n",
    "After creating the model, compiling it with your choice of optimizer and loss function, and doing a sanity check on its contents, you are now ready to build! \n",
    "\n",
    "Simply call `.fit()` to train. That's it! No need for mini-batching, saving, or complex backpropagation computations. That's all been done for you, as you're using a TensorFlow dataset with the batches specified already. You do have the option to specify epoch number or minibatch size if you like (for example, in the case of an un-batched dataset)."
   ]
  },
  {
   "cell_type": "code",
   "execution_count": 10,
   "metadata": {},
   "outputs": [
    {
     "name": "stdout",
     "output_type": "stream",
     "text": [
      "Epoch 1/10\n",
      "38/38 [==============================] - 4s 100ms/step - loss: 0.9144 - accuracy: 0.7500\n",
      "Epoch 2/10\n",
      "38/38 [==============================] - 4s 97ms/step - loss: 0.2686 - accuracy: 0.8883\n",
      "Epoch 3/10\n",
      "38/38 [==============================] - 4s 97ms/step - loss: 0.1907 - accuracy: 0.9200\n",
      "Epoch 4/10\n",
      "38/38 [==============================] - 4s 97ms/step - loss: 0.1539 - accuracy: 0.9333\n",
      "Epoch 5/10\n",
      "38/38 [==============================] - 4s 95ms/step - loss: 0.1538 - accuracy: 0.9517\n",
      "Epoch 6/10\n",
      "38/38 [==============================] - 4s 95ms/step - loss: 0.0771 - accuracy: 0.9800\n",
      "Epoch 7/10\n",
      "38/38 [==============================] - 4s 95ms/step - loss: 0.1069 - accuracy: 0.9600\n",
      "Epoch 8/10\n",
      "38/38 [==============================] - 4s 98ms/step - loss: 0.0853 - accuracy: 0.9700\n",
      "Epoch 9/10\n",
      "38/38 [==============================] - 4s 95ms/step - loss: 0.0728 - accuracy: 0.9750\n",
      "Epoch 10/10\n",
      "38/38 [==============================] - 4s 97ms/step - loss: 0.0783 - accuracy: 0.9733\n"
     ]
    },
    {
     "data": {
      "text/plain": [
       "<tensorflow.python.keras.callbacks.History at 0x7fa19992f6d0>"
      ]
     },
     "execution_count": 10,
     "metadata": {},
     "output_type": "execute_result"
    }
   ],
   "source": [
    "happy_model.fit(X_train, Y_train, epochs=10, batch_size=16)"
   ]
  },
  {
   "cell_type": "markdown",
   "metadata": {},
   "source": [
    "After that completes, just use `.evaluate()` to evaluate against your test set. This function will print the value of the loss function and the performance metrics specified during the compilation of the model. In this case, the `binary_crossentropy` and the `accuracy` respectively."
   ]
  },
  {
   "cell_type": "code",
   "execution_count": 11,
   "metadata": {},
   "outputs": [
    {
     "name": "stdout",
     "output_type": "stream",
     "text": [
      "5/5 [==============================] - 0s 28ms/step - loss: 0.2141 - accuracy: 0.9000\n"
     ]
    },
    {
     "data": {
      "text/plain": [
       "[0.2140575647354126, 0.8999999761581421]"
      ]
     },
     "execution_count": 11,
     "metadata": {},
     "output_type": "execute_result"
    }
   ],
   "source": [
    "happy_model.evaluate(X_test, Y_test)"
   ]
  },
  {
   "cell_type": "markdown",
   "metadata": {},
   "source": [
    "Easy, right? But what if you need to build a model with shared layers, branches, or multiple inputs and outputs? This is where Sequential, with its beautifully simple yet limited functionality, won't be able to help you. \n",
    "\n",
    "Next up: Enter the Functional API, your slightly more complex, highly flexible friend.  "
   ]
  },
  {
   "cell_type": "markdown",
   "metadata": {},
   "source": [
    "<a name='4'></a>\n",
    "## 4 - The Functional API"
   ]
  },
  {
   "cell_type": "markdown",
   "metadata": {},
   "source": [
    "Welcome to the second half of the assignment, where you'll use Keras' flexible [Functional API](https://www.tensorflow.org/guide/keras/functional) to build a ConvNet that can differentiate between 6 sign language digits. \n",
    "\n",
    "The Functional API can handle models with non-linear topology, shared layers, as well as layers with multiple inputs or outputs. Imagine that, where the Sequential API requires the model to move in a linear fashion through its layers, the Functional API allows much more flexibility. Where Sequential is a straight line, a Functional model is a graph, where the nodes of the layers can connect in many more ways than one. \n",
    "\n",
    "In the visual example below, the one possible direction of the movement Sequential model is shown in contrast to a skip connection, which is just one of the many ways a Functional model can be constructed. A skip connection, as you might have guessed, skips some layer in the network and feeds the output to a later layer in the network. Don't worry, you'll be spending more time with skip connections very soon! "
   ]
  },
  {
   "cell_type": "markdown",
   "metadata": {},
   "source": [
    "<img src=\"images/seq_vs_func.png\" style=\"width:350px;height:200px;\">"
   ]
  },
  {
   "cell_type": "markdown",
   "metadata": {},
   "source": [
    "<a name='4-1'></a>\n",
    "### 4.1 - Load the SIGNS Dataset\n",
    "\n",
    "As a reminder, the SIGNS dataset is a collection of 6 signs representing numbers from 0 to 5."
   ]
  },
  {
   "cell_type": "code",
   "execution_count": 12,
   "metadata": {},
   "outputs": [],
   "source": [
    "# Loading the data (signs)\n",
    "X_train_orig, Y_train_orig, X_test_orig, Y_test_orig, classes = load_signs_dataset()"
   ]
  },
  {
   "cell_type": "markdown",
   "metadata": {},
   "source": [
    "<img src=\"images/SIGNS.png\" style=\"width:800px;height:300px;\">\n",
    "\n",
    "The next cell will show you an example of a labelled image in the dataset. Feel free to change the value of `index` below and re-run to see different examples. "
   ]
  },
  {
   "cell_type": "code",
   "execution_count": 13,
   "metadata": {},
   "outputs": [
    {
     "name": "stdout",
     "output_type": "stream",
     "text": [
      "y = 4\n"
     ]
    },
    {
     "data": {
      "image/png": "[encoded data removed]",
      "text/plain": [
       "<Figure size 432x288 with 1 Axes>"
      ]
     },
     "metadata": {
      "needs_background": "light"
     },
     "output_type": "display_data"
    }
   ],
   "source": [
    "# Example of an image from the dataset\n",
    "index = 9\n",
    "plt.imshow(X_train_orig[index])\n",
    "print (\"y = \" + str(np.squeeze(Y_train_orig[:, index])))"
   ]
  },
  {
   "cell_type": "markdown",
   "metadata": {},
   "source": [
    "<a name='4-2'></a>\n",
    "### 4.2 - Split the Data into Train/Test Sets\n",
    "\n",
    "In Course 2, you built a fully-connected network for this dataset. But since this is an image dataset, it is more natural to apply a ConvNet to it.\n",
    "\n",
    "To get started, let's examine the shapes of your data. "
   ]
  },
  {
   "cell_type": "code",
   "execution_count": 14,
   "metadata": {},
   "outputs": [
    {
     "name": "stdout",
     "output_type": "stream",
     "text": [
      "number of training examples = 1080\n",
      "number of test examples = 120\n",
      "X_train shape: (1080, 64, 64, 3)\n",
      "Y_train shape: (1080, 6)\n",
      "X_test shape: (120, 64, 64, 3)\n",
      "Y_test shape: (120, 6)\n"
     ]
    }
   ],
   "source": [
    "X_train = X_train_orig/255.\n",
    "X_test = X_test_orig/255.\n",
    "Y_train = convert_to_one_hot(Y_train_orig, 6).T\n",
    "Y_test = convert_to_one_hot(Y_test_orig, 6).T\n",
    "print (\"number of training examples = \" + str(X_train.shape[0]))\n",
    "print (\"number of test examples = \" + str(X_test.shape[0]))\n",
    "print (\"X_train shape: \" + str(X_train.shape))\n",
    "print (\"Y_train shape: \" + str(Y_train.shape))\n",
    "print (\"X_test shape: \" + str(X_test.shape))\n",
    "print (\"Y_test shape: \" + str(Y_test.shape))"
   ]
  },
  {
   "cell_type": "markdown",
   "metadata": {},
   "source": [
    "<a name='4-3'></a>\n",
    "### 4.3 - Forward Propagation\n",
    "\n",
    "In TensorFlow, there are built-in functions that implement the convolution steps for you. By now, you should be familiar with how TensorFlow builds computational graphs. In the [Functional API](https://www.tensorflow.org/guide/keras/functional), you create a graph of layers. This is what allows such great flexibility.\n",
    "\n",
    "However, the following model could also be defined using the Sequential API since the information flow is on a single line. But don't deviate. What we want you to learn is to use the functional API.\n",
    "\n",
    "Begin building your graph of layers by creating an input node that functions as a callable object:\n",
    "\n",
    "- **input_img = tf.keras.Input(shape=input_shape):** \n",
    "\n",
    "Then, create a new node in the graph of layers by calling a layer on the `input_img` object: \n",
    "\n",
    "- **tf.keras.layers.Conv2D(filters= ... , kernel_size= ... , padding='same')(input_img):** Read the full documentation on [Conv2D](https://www.tensorflow.org/api_docs/python/tf/keras/layers/Conv2D).\n",
    "\n",
    "- **tf.keras.layers.MaxPool2D(pool_size=(f, f), strides=(s, s), padding='same'):** `MaxPool2D()` downsamples your input using a window of size (f, f) and strides of size (s, s) to carry out max pooling over each window.  For max pooling, you usually operate on a single example at a time and a single channel at a time. Read the full documentation on [MaxPool2D](https://www.tensorflow.org/api_docs/python/tf/keras/layers/MaxPool2D).\n",
    "\n",
    "- **tf.keras.layers.ReLU():** computes the elementwise ReLU of Z (which can be any shape). You can read the full documentation on [ReLU](https://www.tensorflow.org/api_docs/python/tf/keras/layers/ReLU).\n",
    "\n",
    "- **tf.keras.layers.Flatten()**: given a tensor \"P\", this function takes each training (or test) example in the batch and flattens it into a 1D vector.  \n",
    "\n",
    "    * If a tensor P has the shape (batch_size,h,w,c), it returns a flattened tensor with shape (batch_size, k), where $k=h \\times w \\times c$.  \"k\" equals the product of all the dimension sizes other than the first dimension.\n",
    "    \n",
    "    * For example, given a tensor with dimensions [100, 2, 3, 4], it flattens the tensor to be of shape [100, 24], where 24 = 2 * 3 * 4.  You can read the full documentation on [Flatten](https://www.tensorflow.org/api_docs/python/tf/keras/layers/Flatten).\n",
    "\n",
    "- **tf.keras.layers.Dense(units= ... , activation='softmax')(F):** given the flattened input F, it returns the output computed using a fully connected layer. You can read the full documentation on [Dense](https://www.tensorflow.org/api_docs/python/tf/keras/layers/Dense).\n",
    "\n",
    "In the last function above (`tf.keras.layers.Dense()`), the fully connected layer automatically initializes weights in the graph and keeps on training them as you train the model. Hence, you did not need to initialize those weights when initializing the parameters.\n",
    "\n",
    "Lastly, before creating the model, you'll need to define the output using the last of the function's compositions (in this example, a Dense layer): \n",
    "\n",
    "- **outputs = tf.keras.layers.Dense(units=6, activation='softmax')(F)**\n",
    "\n",
    "\n",
    "#### Window, kernel, filter, pool\n",
    "\n",
    "The words \"kernel\" and \"filter\" are used to refer to the same thing. The word \"filter\" accounts for the amount of \"kernels\" that will be used in a single convolution layer. \"Pool\" is the name of the operation that takes the max or average value of the kernels. \n",
    "\n",
    "This is why the parameter `pool_size` refers to `kernel_size`, and you use `(f,f)` to refer to the filter size. \n",
    "\n",
    "Pool size and kernel size refer to the same thing in different objects - They refer to the shape of the window where the operation takes place. "
   ]
  },
  {
   "cell_type": "markdown",
   "metadata": {},
   "source": [
    "<a name='ex-2'></a>\n",
    "### Exercise 2 - convolutional_model\n",
    "\n",
    "Implement the `convolutional_model` function below to build the following model: `CONV2D -> RELU -> MAXPOOL -> CONV2D -> RELU -> MAXPOOL -> FLATTEN -> DENSE`. Use the functions above! \n",
    "\n",
    "Also, plug in the following parameters for all the steps:\n",
    "\n",
    " - [Conv2D](https://www.tensorflow.org/api_docs/python/tf/keras/layers/Conv2D): Use 8 4 by 4 filters, stride 1, padding is \"SAME\"\n",
    " - [ReLU](https://www.tensorflow.org/api_docs/python/tf/keras/layers/ReLU)\n",
    " - [MaxPool2D](https://www.tensorflow.org/api_docs/python/tf/keras/layers/MaxPool2D): Use an 8 by 8 filter size and an 8 by 8 stride, padding is \"SAME\"\n",
    " - **Conv2D**: Use 16 2 by 2 filters, stride 1, padding is \"SAME\"\n",
    " - **ReLU**\n",
    " - **MaxPool2D**: Use a 4 by 4 filter size and a 4 by 4 stride, padding is \"SAME\"\n",
    " - [Flatten](https://www.tensorflow.org/api_docs/python/tf/keras/layers/Flatten) the previous output.\n",
    " - Fully-connected ([Dense](https://www.tensorflow.org/api_docs/python/tf/keras/layers/Dense)) layer: Apply a fully connected layer with 6 neurons and a softmax activation. "
   ]
  },
  {
   "cell_type": "code",
   "execution_count": 15,
   "metadata": {
    "deletable": false,
    "nbgrader": {
     "cell_type": "code",
     "checksum": "f58643806aa8380c96225fc8b4c5e7aa",
     "grade": false,
     "grade_id": "cell-dac51744a9e03f51",
     "locked": false,
     "schema_version": 3,
     "solution": true,
     "task": false
    }
   },
   "outputs": [],
   "source": [
    "# GRADED FUNCTION: convolutional_model\n",
    "\n",
    "def convolutional_model(input_shape):\n",
    "    \"\"\"\n",
    "    Implements the forward propagation for the model:\n",
    "    CONV2D -> RELU -> MAXPOOL -> CONV2D -> RELU -> MAXPOOL -> FLATTEN -> DENSE\n",
    "    \n",
    "    Note that for simplicity and grading purposes, you'll hard-code some values\n",
    "    such as the stride and kernel (filter) sizes. \n",
    "    Normally, functions should take these values as function parameters.\n",
    "    \n",
    "    Arguments:\n",
    "    input_img -- input dataset, of shape (input_shape)\n",
    "\n",
    "    Returns:\n",
    "    model -- TF Keras model (object containing the information for the entire training process) \n",
    "    \"\"\"\n",
    "\n",
    "    input_img = tf.keras.Input(shape=input_shape)\n",
    "    ## CONV2D: 8 filters 4x4, stride of 1, padding 'SAME'\n",
    "    # Z1 = None\n",
    "    ## RELU\n",
    "    # A1 = None\n",
    "    ## MAXPOOL: window 8x8, stride 8, padding 'SAME'\n",
    "    # P1 = None\n",
    "    ## CONV2D: 16 filters 2x2, stride 1, padding 'SAME'\n",
    "    # Z2 = None\n",
    "    ## RELU\n",
    "    # A2 = None\n",
    "    ## MAXPOOL: window 4x4, stride 4, padding 'SAME'\n",
    "    # P2 = None\n",
    "    ## FLATTEN\n",
    "    # F = None\n",
    "    ## Dense layer\n",
    "    ## 6 neurons in output layer. Hint: one of the arguments should be \"activation='softmax'\" \n",
    "    # outputs = None\n",
    "    # YOUR CODE STARTS HERE\n",
    "    \n",
    "    Z1 = tfl.Conv2D(filters=8, kernel_size=4, strides=1, padding='same')(input_img)\n",
    "    A1 = tfl.ReLU()(Z1)\n",
    "    P1 = tfl.MaxPool2D(pool_size=8, strides=8, padding='same')(A1)\n",
    "    \n",
    "    Z2 = tfl.Conv2D(filters=16, kernel_size=2, strides=1, padding='same')(P1)\n",
    "    A2 = tfl.ReLU()(Z2)\n",
    "    P2 = tfl.MaxPool2D(pool_size=4, strides=4, padding='same')(A2)\n",
    "    \n",
    "    F = tfl.Flatten()(P2)\n",
    "    outputs = tfl.Dense(6, activation='softmax')(F)\n",
    "    \n",
    "    \n",
    "    # YOUR CODE ENDS HERE\n",
    "    model = tf.keras.Model(inputs=input_img, outputs=outputs)\n",
    "    return model"
   ]
  },
  {
   "cell_type": "code",
   "execution_count": 16,
   "metadata": {
    "deletable": false,
    "editable": false,
    "nbgrader": {
     "cell_type": "code",
     "checksum": "483d626949930a0b0ef20997e7c6ba72",
     "grade": true,
     "grade_id": "cell-45d22e92042174c9",
     "locked": true,
     "points": 10,
     "schema_version": 3,
     "solution": false,
     "task": false
    }
   },
   "outputs": [
    {
     "name": "stdout",
     "output_type": "stream",
     "text": [
      "Model: \"functional_1\"\n",
      "_________________________________________________________________\n",
      "Layer (type)                 Output Shape              Param #   \n",
      "=================================================================\n",
      "input_1 (InputLayer)         [(None, 64, 64, 3)]       0         \n",
      "_________________________________________________________________\n",
      "conv2d_1 (Conv2D)            (None, 64, 64, 8)         392       \n",
      "_________________________________________________________________\n",
      "re_lu_1 (ReLU)               (None, 64, 64, 8)         0         \n",
      "_________________________________________________________________\n",
      "max_pooling2d_1 (MaxPooling2 (None, 8, 8, 8)           0         \n",
      "_________________________________________________________________\n",
      "conv2d_2 (Conv2D)            (None, 8, 8, 16)          528       \n",
      "_________________________________________________________________\n",
      "re_lu_2 (ReLU)               (None, 8, 8, 16)          0         \n",
      "_________________________________________________________________\n",
      "max_pooling2d_2 (MaxPooling2 (None, 2, 2, 16)          0         \n",
      "_________________________________________________________________\n",
      "flatten_1 (Flatten)          (None, 64)                0         \n",
      "_________________________________________________________________\n",
      "dense_1 (Dense)              (None, 6)                 390       \n",
      "=================================================================\n",
      "Total params: 1,310\n",
      "Trainable params: 1,310\n",
      "Non-trainable params: 0\n",
      "_________________________________________________________________\n",
      "\u001b[32mAll tests passed!\u001b[0m\n"
     ]
    }
   ],
   "source": [
    "conv_model = convolutional_model((64, 64, 3))\n",
    "conv_model.compile(optimizer='adam',\n",
    "                  loss='categorical_crossentropy',\n",
    "                  metrics=['accuracy'])\n",
    "conv_model.summary()\n",
    "    \n",
    "output = [['InputLayer', [(None, 64, 64, 3)], 0],\n",
    "        ['Conv2D', (None, 64, 64, 8), 392, 'same', 'linear', 'GlorotUniform'],\n",
    "        ['ReLU', (None, 64, 64, 8), 0],\n",
    "        ['MaxPooling2D', (None, 8, 8, 8), 0, (8, 8), (8, 8), 'same'],\n",
    "        ['Conv2D', (None, 8, 8, 16), 528, 'same', 'linear', 'GlorotUniform'],\n",
    "        ['ReLU', (None, 8, 8, 16), 0],\n",
    "        ['MaxPooling2D', (None, 2, 2, 16), 0, (4, 4), (4, 4), 'same'],\n",
    "        ['Flatten', (None, 64), 0],\n",
    "        ['Dense', (None, 6), 390, 'softmax']]\n",
    "    \n",
    "comparator(summary(conv_model), output)"
   ]
  },
  {
   "cell_type": "markdown",
   "metadata": {},
   "source": [
    "Both the Sequential and Functional APIs return a TF Keras model object. The only difference is how inputs are handled inside the object model! "
   ]
  },
  {
   "cell_type": "markdown",
   "metadata": {},
   "source": [
    "<a name='4-4'></a>\n",
    "### 4.4 - Train the Model"
   ]
  },
  {
   "cell_type": "code",
   "execution_count": 17,
   "metadata": {},
   "outputs": [
    {
     "name": "stdout",
     "output_type": "stream",
     "text": [
      "Epoch 1/100\n",
      "17/17 [==============================] - 2s 113ms/step - loss: 1.8068 - accuracy: 0.1426 - val_loss: 1.7927 - val_accuracy: 0.1167\n",
      "Epoch 2/100\n",
      "17/17 [==============================] - 2s 106ms/step - loss: 1.7914 - accuracy: 0.1519 - val_loss: 1.7864 - val_accuracy: 0.2333\n",
      "Epoch 3/100\n",
      "17/17 [==============================] - 2s 106ms/step - loss: 1.7844 - accuracy: 0.2204 - val_loss: 1.7848 - val_accuracy: 0.2500\n",
      "Epoch 4/100\n",
      "17/17 [==============================] - 2s 106ms/step - loss: 1.7778 - accuracy: 0.2639 - val_loss: 1.7794 - val_accuracy: 0.2833\n",
      "Epoch 5/100\n",
      "17/17 [==============================] - 2s 106ms/step - loss: 1.7703 - accuracy: 0.2954 - val_loss: 1.7737 - val_accuracy: 0.3083\n",
      "Epoch 6/100\n",
      "17/17 [==============================] - 2s 106ms/step - loss: 1.7605 - accuracy: 0.3028 - val_loss: 1.7659 - val_accuracy: 0.3250\n",
      "Epoch 7/100\n",
      "17/17 [==============================] - 2s 106ms/step - loss: 1.7483 - accuracy: 0.3194 - val_loss: 1.7553 - val_accuracy: 0.3583\n",
      "Epoch 8/100\n",
      "17/17 [==============================] - 2s 106ms/step - loss: 1.7320 - accuracy: 0.3370 - val_loss: 1.7406 - val_accuracy: 0.3667\n",
      "Epoch 9/100\n",
      "17/17 [==============================] - 2s 106ms/step - loss: 1.7111 - accuracy: 0.3676 - val_loss: 1.7210 - val_accuracy: 0.4250\n",
      "Epoch 10/100\n",
      "17/17 [==============================] - 2s 106ms/step - loss: 1.6852 - accuracy: 0.3972 - val_loss: 1.6964 - val_accuracy: 0.4583\n",
      "Epoch 11/100\n",
      "17/17 [==============================] - 2s 106ms/step - loss: 1.6537 - accuracy: 0.4148 - val_loss: 1.6669 - val_accuracy: 0.4500\n",
      "Epoch 12/100\n",
      "17/17 [==============================] - 2s 106ms/step - loss: 1.6168 - accuracy: 0.4398 - val_loss: 1.6314 - val_accuracy: 0.4750\n",
      "Epoch 13/100\n",
      "17/17 [==============================] - 2s 106ms/step - loss: 1.5763 - accuracy: 0.4667 - val_loss: 1.5914 - val_accuracy: 0.5083\n",
      "Epoch 14/100\n",
      "17/17 [==============================] - 2s 106ms/step - loss: 1.5328 - accuracy: 0.4907 - val_loss: 1.5501 - val_accuracy: 0.5333\n",
      "Epoch 15/100\n",
      "17/17 [==============================] - 2s 111ms/step - loss: 1.4862 - accuracy: 0.5102 - val_loss: 1.5046 - val_accuracy: 0.5417\n",
      "Epoch 16/100\n",
      "17/17 [==============================] - 2s 107ms/step - loss: 1.4365 - accuracy: 0.5231 - val_loss: 1.4572 - val_accuracy: 0.5250\n",
      "Epoch 17/100\n",
      "17/17 [==============================] - 2s 106ms/step - loss: 1.3848 - accuracy: 0.5509 - val_loss: 1.4056 - val_accuracy: 0.5333\n",
      "Epoch 18/100\n",
      "17/17 [==============================] - 2s 106ms/step - loss: 1.3317 - accuracy: 0.5648 - val_loss: 1.3563 - val_accuracy: 0.5333\n",
      "Epoch 19/100\n",
      "17/17 [==============================] - 2s 106ms/step - loss: 1.2768 - accuracy: 0.5833 - val_loss: 1.3025 - val_accuracy: 0.5750\n",
      "Epoch 20/100\n",
      "17/17 [==============================] - 2s 107ms/step - loss: 1.2217 - accuracy: 0.6019 - val_loss: 1.2497 - val_accuracy: 0.5917\n",
      "Epoch 21/100\n",
      "17/17 [==============================] - 2s 106ms/step - loss: 1.1678 - accuracy: 0.6213 - val_loss: 1.1956 - val_accuracy: 0.6000\n",
      "Epoch 22/100\n",
      "17/17 [==============================] - 2s 106ms/step - loss: 1.1135 - accuracy: 0.6435 - val_loss: 1.1420 - val_accuracy: 0.6083\n",
      "Epoch 23/100\n",
      "17/17 [==============================] - 2s 106ms/step - loss: 1.0605 - accuracy: 0.6519 - val_loss: 1.0914 - val_accuracy: 0.6250\n",
      "Epoch 24/100\n",
      "17/17 [==============================] - 2s 106ms/step - loss: 1.0106 - accuracy: 0.6759 - val_loss: 1.0446 - val_accuracy: 0.6583\n",
      "Epoch 25/100\n",
      "17/17 [==============================] - 2s 106ms/step - loss: 0.9648 - accuracy: 0.6935 - val_loss: 1.0010 - val_accuracy: 0.6667\n",
      "Epoch 26/100\n",
      "17/17 [==============================] - 2s 111ms/step - loss: 0.9225 - accuracy: 0.7074 - val_loss: 0.9601 - val_accuracy: 0.6833\n",
      "Epoch 27/100\n",
      "17/17 [==============================] - 2s 106ms/step - loss: 0.8824 - accuracy: 0.7231 - val_loss: 0.9241 - val_accuracy: 0.7083\n",
      "Epoch 28/100\n",
      "17/17 [==============================] - 2s 105ms/step - loss: 0.8463 - accuracy: 0.7417 - val_loss: 0.8905 - val_accuracy: 0.7083\n",
      "Epoch 29/100\n",
      "17/17 [==============================] - 2s 106ms/step - loss: 0.8130 - accuracy: 0.7546 - val_loss: 0.8582 - val_accuracy: 0.7250\n",
      "Epoch 30/100\n",
      "17/17 [==============================] - 2s 106ms/step - loss: 0.7825 - accuracy: 0.7722 - val_loss: 0.8300 - val_accuracy: 0.7500\n",
      "Epoch 31/100\n",
      "17/17 [==============================] - 2s 106ms/step - loss: 0.7543 - accuracy: 0.7833 - val_loss: 0.8048 - val_accuracy: 0.7500\n",
      "Epoch 32/100\n",
      "17/17 [==============================] - 2s 106ms/step - loss: 0.7287 - accuracy: 0.7926 - val_loss: 0.7811 - val_accuracy: 0.7583\n",
      "Epoch 33/100\n",
      "17/17 [==============================] - 2s 106ms/step - loss: 0.7048 - accuracy: 0.7981 - val_loss: 0.7573 - val_accuracy: 0.7667\n",
      "Epoch 34/100\n",
      "17/17 [==============================] - 2s 106ms/step - loss: 0.6823 - accuracy: 0.8037 - val_loss: 0.7348 - val_accuracy: 0.7833\n",
      "Epoch 35/100\n",
      "17/17 [==============================] - 2s 107ms/step - loss: 0.6611 - accuracy: 0.8120 - val_loss: 0.7154 - val_accuracy: 0.7833\n",
      "Epoch 36/100\n",
      "17/17 [==============================] - 2s 106ms/step - loss: 0.6416 - accuracy: 0.8176 - val_loss: 0.6972 - val_accuracy: 0.7833\n",
      "Epoch 37/100\n",
      "17/17 [==============================] - 2s 106ms/step - loss: 0.6235 - accuracy: 0.8241 - val_loss: 0.6810 - val_accuracy: 0.7833\n",
      "Epoch 38/100\n",
      "17/17 [==============================] - 2s 106ms/step - loss: 0.6067 - accuracy: 0.8315 - val_loss: 0.6647 - val_accuracy: 0.7833\n",
      "Epoch 39/100\n",
      "17/17 [==============================] - 2s 111ms/step - loss: 0.5907 - accuracy: 0.8380 - val_loss: 0.6510 - val_accuracy: 0.7917\n",
      "Epoch 40/100\n",
      "17/17 [==============================] - 2s 111ms/step - loss: 0.5761 - accuracy: 0.8398 - val_loss: 0.6379 - val_accuracy: 0.7917\n",
      "Epoch 41/100\n",
      "17/17 [==============================] - 2s 106ms/step - loss: 0.5617 - accuracy: 0.8426 - val_loss: 0.6251 - val_accuracy: 0.7917\n",
      "Epoch 42/100\n",
      "17/17 [==============================] - 2s 111ms/step - loss: 0.5484 - accuracy: 0.8472 - val_loss: 0.6134 - val_accuracy: 0.7917\n",
      "Epoch 43/100\n",
      "17/17 [==============================] - 2s 106ms/step - loss: 0.5359 - accuracy: 0.8509 - val_loss: 0.6023 - val_accuracy: 0.7917\n",
      "Epoch 44/100\n",
      "17/17 [==============================] - 2s 106ms/step - loss: 0.5244 - accuracy: 0.8556 - val_loss: 0.5927 - val_accuracy: 0.7833\n",
      "Epoch 45/100\n",
      "17/17 [==============================] - 2s 106ms/step - loss: 0.5131 - accuracy: 0.8574 - val_loss: 0.5830 - val_accuracy: 0.7750\n",
      "Epoch 46/100\n",
      "17/17 [==============================] - 2s 106ms/step - loss: 0.5025 - accuracy: 0.8630 - val_loss: 0.5739 - val_accuracy: 0.7833\n",
      "Epoch 47/100\n",
      "17/17 [==============================] - 2s 106ms/step - loss: 0.4923 - accuracy: 0.8667 - val_loss: 0.5656 - val_accuracy: 0.7917\n",
      "Epoch 48/100\n",
      "17/17 [==============================] - 2s 106ms/step - loss: 0.4826 - accuracy: 0.8667 - val_loss: 0.5587 - val_accuracy: 0.7917\n",
      "Epoch 49/100\n",
      "17/17 [==============================] - 2s 106ms/step - loss: 0.4732 - accuracy: 0.8713 - val_loss: 0.5521 - val_accuracy: 0.8000\n",
      "Epoch 50/100\n",
      "17/17 [==============================] - 2s 112ms/step - loss: 0.4642 - accuracy: 0.8750 - val_loss: 0.5447 - val_accuracy: 0.8000\n",
      "Epoch 51/100\n",
      "17/17 [==============================] - 2s 106ms/step - loss: 0.4559 - accuracy: 0.8769 - val_loss: 0.5390 - val_accuracy: 0.8000\n",
      "Epoch 52/100\n",
      "17/17 [==============================] - 2s 107ms/step - loss: 0.4481 - accuracy: 0.8787 - val_loss: 0.5325 - val_accuracy: 0.8083\n",
      "Epoch 53/100\n",
      "17/17 [==============================] - 2s 106ms/step - loss: 0.4404 - accuracy: 0.8806 - val_loss: 0.5261 - val_accuracy: 0.8083\n",
      "Epoch 54/100\n",
      "17/17 [==============================] - 2s 111ms/step - loss: 0.4330 - accuracy: 0.8852 - val_loss: 0.5214 - val_accuracy: 0.8083\n",
      "Epoch 55/100\n",
      "17/17 [==============================] - 2s 106ms/step - loss: 0.4261 - accuracy: 0.8898 - val_loss: 0.5172 - val_accuracy: 0.8083\n",
      "Epoch 56/100\n",
      "17/17 [==============================] - 2s 106ms/step - loss: 0.4192 - accuracy: 0.8917 - val_loss: 0.5124 - val_accuracy: 0.8083\n",
      "Epoch 57/100\n",
      "17/17 [==============================] - 2s 106ms/step - loss: 0.4126 - accuracy: 0.8917 - val_loss: 0.5076 - val_accuracy: 0.8083\n"
     ]
    },
    {
     "name": "stdout",
     "output_type": "stream",
     "text": [
      "Epoch 58/100\n",
      "17/17 [==============================] - 2s 106ms/step - loss: 0.4064 - accuracy: 0.8935 - val_loss: 0.5031 - val_accuracy: 0.8083\n",
      "Epoch 59/100\n",
      "17/17 [==============================] - 2s 111ms/step - loss: 0.4002 - accuracy: 0.8935 - val_loss: 0.4986 - val_accuracy: 0.8083\n",
      "Epoch 60/100\n",
      "17/17 [==============================] - 2s 111ms/step - loss: 0.3943 - accuracy: 0.8954 - val_loss: 0.4946 - val_accuracy: 0.8083\n",
      "Epoch 61/100\n",
      "17/17 [==============================] - 2s 106ms/step - loss: 0.3887 - accuracy: 0.8963 - val_loss: 0.4909 - val_accuracy: 0.8083\n",
      "Epoch 62/100\n",
      "17/17 [==============================] - 2s 106ms/step - loss: 0.3832 - accuracy: 0.8981 - val_loss: 0.4874 - val_accuracy: 0.8083\n",
      "Epoch 63/100\n",
      "17/17 [==============================] - 2s 101ms/step - loss: 0.3779 - accuracy: 0.8991 - val_loss: 0.4840 - val_accuracy: 0.8167\n",
      "Epoch 64/100\n",
      "17/17 [==============================] - 2s 106ms/step - loss: 0.3729 - accuracy: 0.8991 - val_loss: 0.4799 - val_accuracy: 0.8167\n",
      "Epoch 65/100\n",
      "17/17 [==============================] - 2s 106ms/step - loss: 0.3678 - accuracy: 0.9000 - val_loss: 0.4770 - val_accuracy: 0.8083\n",
      "Epoch 66/100\n",
      "17/17 [==============================] - 2s 106ms/step - loss: 0.3630 - accuracy: 0.9000 - val_loss: 0.4741 - val_accuracy: 0.8250\n",
      "Epoch 67/100\n",
      "17/17 [==============================] - 2s 106ms/step - loss: 0.3582 - accuracy: 0.9009 - val_loss: 0.4715 - val_accuracy: 0.8250\n",
      "Epoch 68/100\n",
      "17/17 [==============================] - 2s 106ms/step - loss: 0.3537 - accuracy: 0.9028 - val_loss: 0.4685 - val_accuracy: 0.8333\n",
      "Epoch 69/100\n",
      "17/17 [==============================] - 2s 111ms/step - loss: 0.3494 - accuracy: 0.9037 - val_loss: 0.4661 - val_accuracy: 0.8250\n",
      "Epoch 70/100\n",
      "17/17 [==============================] - 2s 106ms/step - loss: 0.3450 - accuracy: 0.9037 - val_loss: 0.4631 - val_accuracy: 0.8333\n",
      "Epoch 71/100\n",
      "17/17 [==============================] - 2s 106ms/step - loss: 0.3407 - accuracy: 0.9046 - val_loss: 0.4608 - val_accuracy: 0.8333\n",
      "Epoch 72/100\n",
      "17/17 [==============================] - 2s 101ms/step - loss: 0.3367 - accuracy: 0.9065 - val_loss: 0.4581 - val_accuracy: 0.8333\n",
      "Epoch 73/100\n",
      "17/17 [==============================] - 2s 106ms/step - loss: 0.3329 - accuracy: 0.9102 - val_loss: 0.4552 - val_accuracy: 0.8333\n",
      "Epoch 74/100\n",
      "17/17 [==============================] - 2s 106ms/step - loss: 0.3287 - accuracy: 0.9130 - val_loss: 0.4542 - val_accuracy: 0.8333\n",
      "Epoch 75/100\n",
      "17/17 [==============================] - 2s 106ms/step - loss: 0.3250 - accuracy: 0.9139 - val_loss: 0.4523 - val_accuracy: 0.8333\n",
      "Epoch 76/100\n",
      "17/17 [==============================] - 2s 106ms/step - loss: 0.3213 - accuracy: 0.9148 - val_loss: 0.4506 - val_accuracy: 0.8333\n",
      "Epoch 77/100\n",
      "17/17 [==============================] - 2s 106ms/step - loss: 0.3176 - accuracy: 0.9167 - val_loss: 0.4477 - val_accuracy: 0.8333\n",
      "Epoch 78/100\n",
      "17/17 [==============================] - 2s 106ms/step - loss: 0.3139 - accuracy: 0.9176 - val_loss: 0.4475 - val_accuracy: 0.8333\n",
      "Epoch 79/100\n",
      "17/17 [==============================] - 2s 106ms/step - loss: 0.3107 - accuracy: 0.9176 - val_loss: 0.4454 - val_accuracy: 0.8333\n",
      "Epoch 80/100\n",
      "17/17 [==============================] - 2s 106ms/step - loss: 0.3070 - accuracy: 0.9176 - val_loss: 0.4442 - val_accuracy: 0.8333\n",
      "Epoch 81/100\n",
      "17/17 [==============================] - 2s 100ms/step - loss: 0.3039 - accuracy: 0.9204 - val_loss: 0.4418 - val_accuracy: 0.8333\n",
      "Epoch 82/100\n",
      "17/17 [==============================] - 2s 106ms/step - loss: 0.3004 - accuracy: 0.9204 - val_loss: 0.4417 - val_accuracy: 0.8333\n",
      "Epoch 83/100\n",
      "17/17 [==============================] - 2s 111ms/step - loss: 0.2973 - accuracy: 0.9231 - val_loss: 0.4400 - val_accuracy: 0.8417\n",
      "Epoch 84/100\n",
      "17/17 [==============================] - 2s 106ms/step - loss: 0.2939 - accuracy: 0.9241 - val_loss: 0.4389 - val_accuracy: 0.8500\n",
      "Epoch 85/100\n",
      "17/17 [==============================] - 2s 106ms/step - loss: 0.2909 - accuracy: 0.9241 - val_loss: 0.4373 - val_accuracy: 0.8500\n",
      "Epoch 86/100\n",
      "17/17 [==============================] - 2s 106ms/step - loss: 0.2878 - accuracy: 0.9250 - val_loss: 0.4369 - val_accuracy: 0.8500\n",
      "Epoch 87/100\n",
      "17/17 [==============================] - 2s 106ms/step - loss: 0.2849 - accuracy: 0.9250 - val_loss: 0.4341 - val_accuracy: 0.8500\n",
      "Epoch 88/100\n",
      "17/17 [==============================] - 2s 107ms/step - loss: 0.2819 - accuracy: 0.9250 - val_loss: 0.4336 - val_accuracy: 0.8500\n",
      "Epoch 89/100\n",
      "17/17 [==============================] - 2s 106ms/step - loss: 0.2791 - accuracy: 0.9250 - val_loss: 0.4330 - val_accuracy: 0.8500\n",
      "Epoch 90/100\n",
      "17/17 [==============================] - 2s 111ms/step - loss: 0.2764 - accuracy: 0.9259 - val_loss: 0.4310 - val_accuracy: 0.8500\n",
      "Epoch 91/100\n",
      "17/17 [==============================] - 2s 111ms/step - loss: 0.2734 - accuracy: 0.9269 - val_loss: 0.4313 - val_accuracy: 0.8417\n",
      "Epoch 92/100\n",
      "17/17 [==============================] - 2s 111ms/step - loss: 0.2709 - accuracy: 0.9278 - val_loss: 0.4293 - val_accuracy: 0.8417\n",
      "Epoch 93/100\n",
      "17/17 [==============================] - 2s 107ms/step - loss: 0.2683 - accuracy: 0.9278 - val_loss: 0.4285 - val_accuracy: 0.8417\n",
      "Epoch 94/100\n",
      "17/17 [==============================] - 2s 106ms/step - loss: 0.2656 - accuracy: 0.9278 - val_loss: 0.4278 - val_accuracy: 0.8417\n",
      "Epoch 95/100\n",
      "17/17 [==============================] - 2s 106ms/step - loss: 0.2632 - accuracy: 0.9278 - val_loss: 0.4262 - val_accuracy: 0.8583\n",
      "Epoch 96/100\n",
      "17/17 [==============================] - 2s 106ms/step - loss: 0.2607 - accuracy: 0.9287 - val_loss: 0.4257 - val_accuracy: 0.8583\n",
      "Epoch 97/100\n",
      "17/17 [==============================] - 2s 111ms/step - loss: 0.2581 - accuracy: 0.9287 - val_loss: 0.4251 - val_accuracy: 0.8583\n",
      "Epoch 98/100\n",
      "17/17 [==============================] - 2s 106ms/step - loss: 0.2558 - accuracy: 0.9287 - val_loss: 0.4239 - val_accuracy: 0.8583\n",
      "Epoch 99/100\n",
      "17/17 [==============================] - 2s 111ms/step - loss: 0.2533 - accuracy: 0.9287 - val_loss: 0.4231 - val_accuracy: 0.8583\n",
      "Epoch 100/100\n",
      "17/17 [==============================] - 2s 111ms/step - loss: 0.2507 - accuracy: 0.9306 - val_loss: 0.4220 - val_accuracy: 0.8583\n"
     ]
    }
   ],
   "source": [
    "train_dataset = tf.data.Dataset.from_tensor_slices((X_train, Y_train)).batch(64)\n",
    "test_dataset = tf.data.Dataset.from_tensor_slices((X_test, Y_test)).batch(64)\n",
    "history = conv_model.fit(train_dataset, epochs=100, validation_data=test_dataset)"
   ]
  },
  {
   "cell_type": "markdown",
   "metadata": {},
   "source": [
    "<a name='5'></a>\n",
    "## 5 - History Object \n",
    "\n",
    "The history object is an output of the `.fit()` operation, and provides a record of all the loss and metric values in memory. It's stored as a dictionary that you can retrieve at `history.history`: "
   ]
  },
  {
   "cell_type": "code",
   "execution_count": 18,
   "metadata": {},
   "outputs": [
    {
     "data": {
      "text/plain": [
       "{'loss': [1.8068362474441528,\n",
       "  1.7913587093353271,\n",
       "  1.7844091653823853,\n",
       "  1.7778401374816895,\n",
       "  1.770304799079895,\n",
       "  1.760486125946045,\n",
       "  1.748329997062683,\n",
       "  1.7320103645324707,\n",
       "  1.7111201286315918,\n",
       "  1.6852188110351562,\n",
       "  1.6536530256271362,\n",
       "  1.6168376207351685,\n",
       "  1.5763014554977417,\n",
       "  1.5327743291854858,\n",
       "  1.4861894845962524,\n",
       "  1.4364948272705078,\n",
       "  1.3848328590393066,\n",
       "  1.3317416906356812,\n",
       "  1.2768064737319946,\n",
       "  1.2217153310775757,\n",
       "  1.167832374572754,\n",
       "  1.1134648323059082,\n",
       "  1.060477614402771,\n",
       "  1.0106143951416016,\n",
       "  0.9648499488830566,\n",
       "  0.9224619269371033,\n",
       "  0.8823832273483276,\n",
       "  0.8463316559791565,\n",
       "  0.8129781484603882,\n",
       "  0.7824792861938477,\n",
       "  0.7543207406997681,\n",
       "  0.7286824584007263,\n",
       "  0.7047731280326843,\n",
       "  0.6823311448097229,\n",
       "  0.6610842943191528,\n",
       "  0.6416162252426147,\n",
       "  0.6234865784645081,\n",
       "  0.6066848039627075,\n",
       "  0.5906948447227478,\n",
       "  0.5761077404022217,\n",
       "  0.5616621971130371,\n",
       "  0.5484057664871216,\n",
       "  0.535892128944397,\n",
       "  0.5244207978248596,\n",
       "  0.5131170153617859,\n",
       "  0.50246262550354,\n",
       "  0.4922597110271454,\n",
       "  0.4825988709926605,\n",
       "  0.4731835126876831,\n",
       "  0.4641740620136261,\n",
       "  0.4559299349784851,\n",
       "  0.448055624961853,\n",
       "  0.44037413597106934,\n",
       "  0.432962566614151,\n",
       "  0.4260781705379486,\n",
       "  0.4192397892475128,\n",
       "  0.41262370347976685,\n",
       "  0.4064125418663025,\n",
       "  0.40024375915527344,\n",
       "  0.3942887485027313,\n",
       "  0.3886595070362091,\n",
       "  0.38316068053245544,\n",
       "  0.37788358330726624,\n",
       "  0.37293627858161926,\n",
       "  0.3678431808948517,\n",
       "  0.36300039291381836,\n",
       "  0.35821786522865295,\n",
       "  0.35366109013557434,\n",
       "  0.34942591190338135,\n",
       "  0.3450106084346771,\n",
       "  0.34069573879241943,\n",
       "  0.33665961027145386,\n",
       "  0.3329087495803833,\n",
       "  0.3287206292152405,\n",
       "  0.3249770998954773,\n",
       "  0.3212989568710327,\n",
       "  0.3176446855068207,\n",
       "  0.3139442503452301,\n",
       "  0.3107217252254486,\n",
       "  0.30702194571495056,\n",
       "  0.30389416217803955,\n",
       "  0.300406277179718,\n",
       "  0.2972942292690277,\n",
       "  0.2939434051513672,\n",
       "  0.29093852639198303,\n",
       "  0.28782814741134644,\n",
       "  0.28490468859672546,\n",
       "  0.281876802444458,\n",
       "  0.27912166714668274,\n",
       "  0.2763715088367462,\n",
       "  0.2733522355556488,\n",
       "  0.2708792984485626,\n",
       "  0.268265038728714,\n",
       "  0.26564422249794006,\n",
       "  0.2631872892379761,\n",
       "  0.26073357462882996,\n",
       "  0.25810614228248596,\n",
       "  0.2557941973209381,\n",
       "  0.2532986104488373,\n",
       "  0.2507103681564331],\n",
       " 'accuracy': [0.14259259402751923,\n",
       "  0.1518518477678299,\n",
       "  0.2203703671693802,\n",
       "  0.2638888955116272,\n",
       "  0.2953703701496124,\n",
       "  0.3027777671813965,\n",
       "  0.3194444477558136,\n",
       "  0.33703702688217163,\n",
       "  0.36759260296821594,\n",
       "  0.39722222089767456,\n",
       "  0.4148148000240326,\n",
       "  0.43981480598449707,\n",
       "  0.46666666865348816,\n",
       "  0.49074074625968933,\n",
       "  0.510185182094574,\n",
       "  0.5231481194496155,\n",
       "  0.5509259104728699,\n",
       "  0.5648148059844971,\n",
       "  0.5833333134651184,\n",
       "  0.6018518805503845,\n",
       "  0.6212962865829468,\n",
       "  0.6435185074806213,\n",
       "  0.6518518328666687,\n",
       "  0.6759259104728699,\n",
       "  0.6935185194015503,\n",
       "  0.7074074149131775,\n",
       "  0.7231481671333313,\n",
       "  0.7416666746139526,\n",
       "  0.7546296119689941,\n",
       "  0.7722222208976746,\n",
       "  0.7833333611488342,\n",
       "  0.7925925850868225,\n",
       "  0.7981481552124023,\n",
       "  0.8037037253379822,\n",
       "  0.8120370507240295,\n",
       "  0.8175926208496094,\n",
       "  0.8240740895271301,\n",
       "  0.8314814567565918,\n",
       "  0.8379629850387573,\n",
       "  0.8398148417472839,\n",
       "  0.8425925970077515,\n",
       "  0.8472222089767456,\n",
       "  0.8509259223937988,\n",
       "  0.855555534362793,\n",
       "  0.8574073910713196,\n",
       "  0.8629629611968994,\n",
       "  0.8666666746139526,\n",
       "  0.8666666746139526,\n",
       "  0.8712962865829468,\n",
       "  0.875,\n",
       "  0.8768518567085266,\n",
       "  0.8787037134170532,\n",
       "  0.8805555701255798,\n",
       "  0.885185182094574,\n",
       "  0.8898147940635681,\n",
       "  0.8916666507720947,\n",
       "  0.8916666507720947,\n",
       "  0.8935185074806213,\n",
       "  0.8935185074806213,\n",
       "  0.895370364189148,\n",
       "  0.8962963223457336,\n",
       "  0.8981481194496155,\n",
       "  0.8990740776062012,\n",
       "  0.8990740776062012,\n",
       "  0.8999999761581421,\n",
       "  0.8999999761581421,\n",
       "  0.9009259343147278,\n",
       "  0.9027777910232544,\n",
       "  0.9037036895751953,\n",
       "  0.9037036895751953,\n",
       "  0.904629647731781,\n",
       "  0.9064815044403076,\n",
       "  0.9101851582527161,\n",
       "  0.9129629731178284,\n",
       "  0.9138888716697693,\n",
       "  0.914814829826355,\n",
       "  0.9166666865348816,\n",
       "  0.9175925850868225,\n",
       "  0.9175925850868225,\n",
       "  0.9175925850868225,\n",
       "  0.9203703999519348,\n",
       "  0.9203703999519348,\n",
       "  0.9231481552124023,\n",
       "  0.9240740537643433,\n",
       "  0.9240740537643433,\n",
       "  0.925000011920929,\n",
       "  0.925000011920929,\n",
       "  0.925000011920929,\n",
       "  0.925000011920929,\n",
       "  0.9259259104728699,\n",
       "  0.9268518686294556,\n",
       "  0.9277777671813965,\n",
       "  0.9277777671813965,\n",
       "  0.9277777671813965,\n",
       "  0.9277777671813965,\n",
       "  0.9287037253379822,\n",
       "  0.9287037253379822,\n",
       "  0.9287037253379822,\n",
       "  0.9287037253379822,\n",
       "  0.9305555820465088],\n",
       " 'val_loss': [1.7927464246749878,\n",
       "  1.7864067554473877,\n",
       "  1.784777283668518,\n",
       "  1.7794452905654907,\n",
       "  1.7737394571304321,\n",
       "  1.765912413597107,\n",
       "  1.7553399801254272,\n",
       "  1.7406474351882935,\n",
       "  1.7210263013839722,\n",
       "  1.6963778734207153,\n",
       "  1.6668860912322998,\n",
       "  1.631420612335205,\n",
       "  1.5914028882980347,\n",
       "  1.5501368045806885,\n",
       "  1.5046353340148926,\n",
       "  1.4571694135665894,\n",
       "  1.4055538177490234,\n",
       "  1.3562613725662231,\n",
       "  1.3024994134902954,\n",
       "  1.249667763710022,\n",
       "  1.1955790519714355,\n",
       "  1.1420198678970337,\n",
       "  1.0913864374160767,\n",
       "  1.0446467399597168,\n",
       "  1.001010775566101,\n",
       "  0.960114061832428,\n",
       "  0.9241475462913513,\n",
       "  0.8904781341552734,\n",
       "  0.8582162261009216,\n",
       "  0.8299837708473206,\n",
       "  0.8048074245452881,\n",
       "  0.7810908555984497,\n",
       "  0.7573385834693909,\n",
       "  0.7348464727401733,\n",
       "  0.7154377102851868,\n",
       "  0.6971775889396667,\n",
       "  0.6810497045516968,\n",
       "  0.6646707057952881,\n",
       "  0.6509779691696167,\n",
       "  0.6378977298736572,\n",
       "  0.6251280903816223,\n",
       "  0.6134072542190552,\n",
       "  0.6022789478302002,\n",
       "  0.5926614999771118,\n",
       "  0.5830495357513428,\n",
       "  0.5738543272018433,\n",
       "  0.5656062960624695,\n",
       "  0.5587148070335388,\n",
       "  0.5521434545516968,\n",
       "  0.5446587800979614,\n",
       "  0.5389624238014221,\n",
       "  0.5325122475624084,\n",
       "  0.5261002779006958,\n",
       "  0.5214417576789856,\n",
       "  0.5171846747398376,\n",
       "  0.5123719573020935,\n",
       "  0.5076030492782593,\n",
       "  0.503104031085968,\n",
       "  0.4986187219619751,\n",
       "  0.49456220865249634,\n",
       "  0.4908798635005951,\n",
       "  0.48738446831703186,\n",
       "  0.4839842617511749,\n",
       "  0.47994115948677063,\n",
       "  0.4770236313343048,\n",
       "  0.47407516837120056,\n",
       "  0.47148358821868896,\n",
       "  0.4684963822364807,\n",
       "  0.46606749296188354,\n",
       "  0.4631141722202301,\n",
       "  0.460774689912796,\n",
       "  0.45814353227615356,\n",
       "  0.45518893003463745,\n",
       "  0.45424965023994446,\n",
       "  0.4523431360721588,\n",
       "  0.4505731463432312,\n",
       "  0.44769448041915894,\n",
       "  0.4474632143974304,\n",
       "  0.4453650414943695,\n",
       "  0.44421857595443726,\n",
       "  0.44178590178489685,\n",
       "  0.44168326258659363,\n",
       "  0.4399523437023163,\n",
       "  0.4389471113681793,\n",
       "  0.4372927248477936,\n",
       "  0.43686458468437195,\n",
       "  0.4341358542442322,\n",
       "  0.4335537254810333,\n",
       "  0.43301650881767273,\n",
       "  0.4310074746608734,\n",
       "  0.4312768876552582,\n",
       "  0.4292854070663452,\n",
       "  0.42846763134002686,\n",
       "  0.4277983009815216,\n",
       "  0.42621880769729614,\n",
       "  0.42571741342544556,\n",
       "  0.4251057505607605,\n",
       "  0.42389795184135437,\n",
       "  0.4230826795101166,\n",
       "  0.42202723026275635],\n",
       " 'val_accuracy': [0.11666666716337204,\n",
       "  0.23333333432674408,\n",
       "  0.25,\n",
       "  0.28333333134651184,\n",
       "  0.3083333373069763,\n",
       "  0.32499998807907104,\n",
       "  0.3583333194255829,\n",
       "  0.36666667461395264,\n",
       "  0.42500001192092896,\n",
       "  0.4583333432674408,\n",
       "  0.44999998807907104,\n",
       "  0.4749999940395355,\n",
       "  0.5083333253860474,\n",
       "  0.5333333611488342,\n",
       "  0.5416666865348816,\n",
       "  0.5249999761581421,\n",
       "  0.5333333611488342,\n",
       "  0.5333333611488342,\n",
       "  0.574999988079071,\n",
       "  0.5916666388511658,\n",
       "  0.6000000238418579,\n",
       "  0.6083333492279053,\n",
       "  0.625,\n",
       "  0.6583333611488342,\n",
       "  0.6666666865348816,\n",
       "  0.6833333373069763,\n",
       "  0.7083333134651184,\n",
       "  0.7083333134651184,\n",
       "  0.7250000238418579,\n",
       "  0.75,\n",
       "  0.75,\n",
       "  0.7583333253860474,\n",
       "  0.7666666507720947,\n",
       "  0.7833333611488342,\n",
       "  0.7833333611488342,\n",
       "  0.7833333611488342,\n",
       "  0.7833333611488342,\n",
       "  0.7833333611488342,\n",
       "  0.7916666865348816,\n",
       "  0.7916666865348816,\n",
       "  0.7916666865348816,\n",
       "  0.7916666865348816,\n",
       "  0.7916666865348816,\n",
       "  0.7833333611488342,\n",
       "  0.7749999761581421,\n",
       "  0.7833333611488342,\n",
       "  0.7916666865348816,\n",
       "  0.7916666865348816,\n",
       "  0.800000011920929,\n",
       "  0.800000011920929,\n",
       "  0.800000011920929,\n",
       "  0.8083333373069763,\n",
       "  0.8083333373069763,\n",
       "  0.8083333373069763,\n",
       "  0.8083333373069763,\n",
       "  0.8083333373069763,\n",
       "  0.8083333373069763,\n",
       "  0.8083333373069763,\n",
       "  0.8083333373069763,\n",
       "  0.8083333373069763,\n",
       "  0.8083333373069763,\n",
       "  0.8083333373069763,\n",
       "  0.8166666626930237,\n",
       "  0.8166666626930237,\n",
       "  0.8083333373069763,\n",
       "  0.824999988079071,\n",
       "  0.824999988079071,\n",
       "  0.8333333134651184,\n",
       "  0.824999988079071,\n",
       "  0.8333333134651184,\n",
       "  0.8333333134651184,\n",
       "  0.8333333134651184,\n",
       "  0.8333333134651184,\n",
       "  0.8333333134651184,\n",
       "  0.8333333134651184,\n",
       "  0.8333333134651184,\n",
       "  0.8333333134651184,\n",
       "  0.8333333134651184,\n",
       "  0.8333333134651184,\n",
       "  0.8333333134651184,\n",
       "  0.8333333134651184,\n",
       "  0.8333333134651184,\n",
       "  0.8416666388511658,\n",
       "  0.8500000238418579,\n",
       "  0.8500000238418579,\n",
       "  0.8500000238418579,\n",
       "  0.8500000238418579,\n",
       "  0.8500000238418579,\n",
       "  0.8500000238418579,\n",
       "  0.8500000238418579,\n",
       "  0.8416666388511658,\n",
       "  0.8416666388511658,\n",
       "  0.8416666388511658,\n",
       "  0.8416666388511658,\n",
       "  0.8583333492279053,\n",
       "  0.8583333492279053,\n",
       "  0.8583333492279053,\n",
       "  0.8583333492279053,\n",
       "  0.8583333492279053,\n",
       "  0.8583333492279053]}"
      ]
     },
     "execution_count": 18,
     "metadata": {},
     "output_type": "execute_result"
    }
   ],
   "source": [
    "history.history"
   ]
  },
  {
   "cell_type": "markdown",
   "metadata": {},
   "source": [
    "Now visualize the loss over time using `history.history`: "
   ]
  },
  {
   "cell_type": "code",
   "execution_count": 19,
   "metadata": {},
   "outputs": [
    {
     "data": {
      "text/plain": [
       "[Text(0, 0.5, 'Accuracy'), Text(0.5, 0, 'Epoch')]"
      ]
     },
     "execution_count": 19,
     "metadata": {},
     "output_type": "execute_result"
    },
    {
     "data": {
      "image/png": "[encoded data removed]",
      "text/plain": [
       "<Figure size 864x576 with 1 Axes>"
      ]
     },
     "metadata": {
      "needs_background": "light"
     },
     "output_type": "display_data"
    },
    {
     "data": {
      "image/png": "[encoded data removed]",
      "text/plain": [
       "<Figure size 864x576 with 1 Axes>"
      ]
     },
     "metadata": {
      "needs_background": "light"
     },
     "output_type": "display_data"
    }
   ],
   "source": [
    "# The history.history[\"loss\"] entry is a dictionary with as many values as epochs that the\n",
    "# model was trained on. \n",
    "df_loss_acc = pd.DataFrame(history.history)\n",
    "df_loss= df_loss_acc[['loss','val_loss']]\n",
    "df_loss.rename(columns={'loss':'train','val_loss':'validation'},inplace=True)\n",
    "df_acc= df_loss_acc[['accuracy','val_accuracy']]\n",
    "df_acc.rename(columns={'accuracy':'train','val_accuracy':'validation'},inplace=True)\n",
    "df_loss.plot(title='Model loss',figsize=(12,8)).set(xlabel='Epoch',ylabel='Loss')\n",
    "df_acc.plot(title='Model Accuracy',figsize=(12,8)).set(xlabel='Epoch',ylabel='Accuracy')"
   ]
  },
  {
   "cell_type": "markdown",
   "metadata": {},
   "source": [
    "**Congratulations**! You've finished the assignment and built two models: One that recognizes  smiles, and another that recognizes SIGN language with almost 80% accuracy on the test set. In addition to that, you now also understand the applications of two Keras APIs: Sequential and Functional. Nicely done! \n",
    "\n",
    "By now, you know a bit about how the Functional API works and may have glimpsed the possibilities. In your next assignment, you'll really get a feel for its power when you get the opportunity to build a very deep ConvNet, using ResNets! "
   ]
  },
  {
   "cell_type": "markdown",
   "metadata": {},
   "source": [
    "<a name='6'></a>\n",
    "## 6 - Bibliography\n",
    "\n",
    "You're always encouraged to read the official documentation. To that end, you can find the docs for the Sequential and Functional APIs here: \n",
    "\n",
    "https://www.tensorflow.org/guide/keras/sequential_model\n",
    "\n",
    "https://www.tensorflow.org/guide/keras/functional"
   ]
  }
 ],
 "metadata": {
  "coursera": {
   "course_slug": "convolutional-neural-networks",
   "graded_item_id": "bwbJV",
   "launcher_item_id": "0TkXB"
  },
  "kernelspec": {
   "display_name": "Python 3",
   "language": "python",
   "name": "python3"
  },
  "language_info": {
   "codemirror_mode": {
    "name": "ipython",
    "version": 3
   },
   "file_extension": ".py",
   "mimetype": "text/x-python",
   "name": "python",
   "nbconvert_exporter": "python",
   "pygments_lexer": "ipython3",
   "version": "3.7.6"
  }
 },
 "nbformat": 4,
 "nbformat_minor": 2
}
